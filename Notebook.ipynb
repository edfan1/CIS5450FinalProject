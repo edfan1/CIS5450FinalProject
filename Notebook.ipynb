{
 "cells": [
  {
   "cell_type": "markdown",
   "id": "c7e5b106",
   "metadata": {},
   "source": [
    "# CIS 5450 Final Project\n",
    "\n",
    "Dataset: https://www.kaggle.com/datasets/tsaustin/us-historical-stock-prices-with-earnings-data"
   ]
  },
  {
   "cell_type": "code",
   "execution_count": 39,
   "id": "be1d1060",
   "metadata": {},
   "outputs": [],
   "source": [
    "# Imports\n",
    "import pandas as pd\n",
    "import numpy as np\n",
    "import matplotlib.pyplot as plt\n",
    "import seaborn as sns"
   ]
  },
  {
   "cell_type": "code",
   "execution_count": 13,
   "id": "1cfc5c94",
   "metadata": {},
   "outputs": [],
   "source": [
    "# Load datasets\n",
    "prices = pd.read_csv(\n",
    "    \"./datasets/stock_prices_latest.csv\",\n",
    "    parse_dates=[\"date\"],\n",
    "    dtype={\"symbol\": str}\n",
    ")\n",
    "earnings = pd.read_csv(\n",
    "    \"./datasets/earnings_latest.csv\",\n",
    "    parse_dates=[\"date\"],\n",
    "    dtype={\"symbol\": str, \"announce_time\": str}\n",
    ")"
   ]
  },
  {
   "cell_type": "code",
   "execution_count": 16,
   "id": "a4c9cae7",
   "metadata": {},
   "outputs": [
    {
     "data": {
      "text/plain": [
       "Index(['symbol', 'date', 'qtr', 'eps_est', 'eps', 'release_time'], dtype='object')"
      ]
     },
     "metadata": {},
     "output_type": "display_data"
    },
    {
     "data": {
      "text/plain": [
       "Index(['symbol', 'date', 'open', 'high', 'low', 'close', 'close_adjusted',\n",
       "       'volume', 'split_coefficient'],\n",
       "      dtype='object')"
      ]
     },
     "metadata": {},
     "output_type": "display_data"
    }
   ],
   "source": [
    "display(earnings.columns)\n",
    "display(prices.columns)"
   ]
  },
  {
   "cell_type": "markdown",
   "id": "ef95282f",
   "metadata": {},
   "source": [
    "# Cleaning Dataset"
   ]
  },
  {
   "cell_type": "code",
   "execution_count": 17,
   "id": "805b74cc",
   "metadata": {},
   "outputs": [
    {
     "data": {
      "text/plain": [
       "Index(['symbol', 'earnings_date', 'qtr', 'consensus_eps', 'actual_eps',\n",
       "       'announce_time'],\n",
       "      dtype='object')"
      ]
     },
     "metadata": {},
     "output_type": "display_data"
    }
   ],
   "source": [
    "# Rename Columns\n",
    "earnings = earnings.rename(\n",
    "    columns={\n",
    "        \"date\": \"earnings_date\",\n",
    "        \"eps_est\": \"consensus_eps\",\n",
    "        \"eps\": \"actual_eps\",\n",
    "        \"release_time\": \"announce_time\"\n",
    "    }\n",
    ")\n",
    "display(earnings.columns)"
   ]
  },
  {
   "cell_type": "code",
   "execution_count": 18,
   "id": "9bf0be01",
   "metadata": {},
   "outputs": [],
   "source": [
    "# Drop events missing EPS or announcement time\n",
    "earnings = earnings.dropna(\n",
    "    subset=[\"consensus_eps\", \"actual_eps\", \"announce_time\"]\n",
    ").reset_index(drop=True)\n",
    "\n",
    "# Compute the effective trading date of the event\n",
    "def effective_trade_date(row):\n",
    "    # After Market Close (AMC) → next trading day; Before Market Open (BMO) → same day\n",
    "    if row[\"announce_time\"].upper().startswith(\"AMC\"):\n",
    "        return row[\"earnings_date\"] + pd.Timedelta(days=1)\n",
    "    else:\n",
    "        return row[\"earnings_date\"]\n",
    "\n",
    "earnings[\"trade_date\"] = earnings.apply(effective_trade_date, axis=1)"
   ]
  },
  {
   "cell_type": "code",
   "execution_count": 19,
   "id": "6d0ae673",
   "metadata": {},
   "outputs": [
    {
     "data": {
      "text/plain": [
       "(79444, 11)"
      ]
     },
     "execution_count": 19,
     "metadata": {},
     "output_type": "execute_result"
    }
   ],
   "source": [
    "# Restrict price data to the relevant date span (±5 days around events)\n",
    "min_date = earnings[\"trade_date\"].min() - pd.Timedelta(days=5)\n",
    "max_date = earnings[\"trade_date\"].max() + pd.Timedelta(days=5)\n",
    "prices = prices[\n",
    "    (prices[\"date\"] >= min_date) &\n",
    "    (prices[\"date\"] <= max_date)\n",
    "].copy()\n",
    "\n",
    "# Keep only adjusted prices to handle splits/dividends\n",
    "prices = prices[[\n",
    "    \"symbol\", \"date\", \"close_adjusted\", \"open\", \"high\", \"low\", \"volume\"\n",
    "]]\n",
    "\n",
    "# Merge earnings events with price data on effective trade date\n",
    "event_prices = pd.merge(\n",
    "    earnings[[\"symbol\", \"earnings_date\", \"trade_date\", \"actual_eps\", \"consensus_eps\"]],\n",
    "    prices,\n",
    "    left_on=[\"symbol\", \"trade_date\"],\n",
    "    right_on=[\"symbol\", \"date\"],\n",
    "    how=\"inner\"\n",
    ")\n",
    "\n",
    "# Drop duplicates and reset index\n",
    "event_prices = event_prices.drop_duplicates(subset=[\"symbol\", \"earnings_date\"]).reset_index(drop=True)\n",
    "\n",
    "# Save cleaned data for downstream analysis\n",
    "event_prices.to_csv(\"cleaned_event_price_data.csv\", index=False)\n",
    "\n",
    "# Display the shape of the cleaned dataset\n",
    "event_prices.shape"
   ]
  },
  {
   "cell_type": "markdown",
   "id": "30cc5f78",
   "metadata": {},
   "source": [
    "# EDA"
   ]
  },
  {
   "cell_type": "code",
   "execution_count": 61,
   "id": "75c19f13",
   "metadata": {},
   "outputs": [],
   "source": [
    "df = pd.read_csv(\"cleaned_event_price_data.csv\", parse_dates=[\"earnings_date\", \"trade_date\", \"date\"])\n",
    "\n",
    "# Compute earnings surprise and event-day return\n",
    "df['surprise'] = df['actual_eps'] - df['consensus_eps']\n",
    "df['return'] = (df['close_adjusted'] - df['open']) / df['open']\n",
    "\n",
    "# Create a binary indicator for beat vs. miss\n",
    "df['beat'] = df['surprise'] > 0\n",
    "\n",
    "# Extract the year of each earnings date\n",
    "df['year'] = df['earnings_date'].dt.year"
   ]
  },
  {
   "cell_type": "code",
   "execution_count": 69,
   "id": "24be5c88",
   "metadata": {},
   "outputs": [
    {
     "data": {
      "image/png": "[encoded data removed]",
      "text/plain": [
       "<Figure size 800x500 with 1 Axes>"
      ]
     },
     "metadata": {},
     "output_type": "display_data"
    }
   ],
   "source": [
    "# Set Seaborn style\n",
    "sns.set(style=\"whitegrid\")\n",
    "\n",
    "# 1. Distribution of Earnings Surprise\n",
    "plt.figure(figsize=(8, 5))\n",
    "sns.histplot(data=df, x='surprise', bins=30, kde=True)\n",
    "plt.title(\"Distribution of Earnings Surprise\", fontsize=14)\n",
    "plt.xlabel(\"EPS Surprise (Actual – Consensus)\")\n",
    "plt.ylabel(\"Frequency\")\n",
    "plt.tight_layout()\n",
    "plt.show()"
   ]
  },
  {
   "cell_type": "code",
   "execution_count": 70,
   "id": "8347f446",
   "metadata": {},
   "outputs": [
    {
     "data": {
      "image/png": "[encoded data removed]",
      "text/plain": [
       "<Figure size 800x500 with 1 Axes>"
      ]
     },
     "metadata": {},
     "output_type": "display_data"
    }
   ],
   "source": [
    "# 2. Boxplot: Event-Day Return by Beat vs. Miss\n",
    "plt.figure(figsize=(8, 5))\n",
    "sns.boxplot(data=df, x='beat', y='return')\n",
    "plt.title(\"Event-Day Return by EPS Beat vs. Miss\", fontsize=14)\n",
    "plt.xlabel(\"Beat (>0) or Miss (≤0)\")\n",
    "plt.ylabel(\"Return on Event Day\")\n",
    "plt.tight_layout()\n",
    "plt.show()"
   ]
  },
  {
   "cell_type": "code",
   "execution_count": 71,
   "id": "963ae49e",
   "metadata": {},
   "outputs": [
    {
     "data": {
      "image/png": "[encoded data removed]",
      "text/plain": [
       "<Figure size 800x500 with 1 Axes>"
      ]
     },
     "metadata": {},
     "output_type": "display_data"
    }
   ],
   "source": [
    "# 3. Scatter with Regression: Surprise vs. Event-Day Return\n",
    "plt.figure(figsize=(8, 5))\n",
    "sns.regplot(data=df, x='surprise', y='return', scatter_kws={'alpha':0.4}, line_kws={'color':'red'})\n",
    "plt.title(\"EPS Surprise vs. Event-Day Return\", fontsize=14)\n",
    "plt.xlabel(\"EPS Surprise\")\n",
    "plt.ylabel(\"Return on Event Day\")\n",
    "plt.tight_layout()\n",
    "plt.show()\n"
   ]
  },
  {
   "cell_type": "code",
   "execution_count": 72,
   "id": "2c65a43f",
   "metadata": {},
   "outputs": [
    {
     "data": {
      "image/png": "[encoded data removed]",
      "text/plain": [
       "<Figure size 800x500 with 1 Axes>"
      ]
     },
     "metadata": {},
     "output_type": "display_data"
    }
   ],
   "source": [
    "# 4. Count of Earnings Events per Year\n",
    "plt.figure(figsize=(8, 5))\n",
    "ax = sns.countplot(data=df, x='year')\n",
    "plt.title(\"Number of Earnings Announcements per Year\", fontsize=14)\n",
    "plt.xlabel(\"Year\")\n",
    "plt.ylabel(\"Event Count\")\n",
    "# Rotate x-axis labels for better readability\n",
    "plt.xticks(rotation=45)\n",
    "plt.tight_layout()\n",
    "plt.show()"
   ]
  },
  {
   "cell_type": "markdown",
   "id": "b4b71dfe",
   "metadata": {},
   "source": [
    "# Models - Baselines"
   ]
  },
  {
   "cell_type": "markdown",
   "id": "b4f4cf5a",
   "metadata": {},
   "source": [
    "### Always Predict "
   ]
  },
  {
   "cell_type": "code",
   "execution_count": 56,
   "id": "375b1693",
   "metadata": {},
   "outputs": [],
   "source": [
    "from sklearn.metrics import (\n",
    "    accuracy_score, precision_score, recall_score, confusion_matrix,\n",
    "    mean_squared_error, mean_absolute_error, classification_report, roc_auc_score\n",
    ")"
   ]
  },
  {
   "cell_type": "code",
   "execution_count": 36,
   "id": "dc80e703",
   "metadata": {},
   "outputs": [],
   "source": [
    "df = pd.read_csv(\n",
    "    \"cleaned_event_price_data.csv\",\n",
    "    parse_dates=[\"earnings_date\", \"trade_date\", \"date\"]\n",
    ")\n",
    "\n",
    "# Compute the intraday event‑day return\n",
    "df[\"return\"] = (df[\"close_adjusted\"] - df[\"open\"]) / df[\"open\"]\n",
    "\n",
    "df['target_up'] = df['return'] > 0"
   ]
  },
  {
   "cell_type": "code",
   "execution_count": 37,
   "id": "340c01be",
   "metadata": {},
   "outputs": [
    {
     "name": "stdout",
     "output_type": "stream",
     "text": [
      "Classification Baseline (Always predict Down)\n",
      "Accuracy: 0.660\n",
      "Precision: 0.000\n",
      "Recall: 0.000\n",
      "Confusion Matrix:\n",
      " [[52397     0]\n",
      " [27047     0]]\n"
     ]
    },
    {
     "name": "stderr",
     "output_type": "stream",
     "text": [
      "/opt/anaconda3/envs/cis5450/lib/python3.13/site-packages/sklearn/metrics/_classification.py:1565: UndefinedMetricWarning: Precision is ill-defined and being set to 0.0 due to no predicted samples. Use `zero_division` parameter to control this behavior.\n",
      "  _warn_prf(average, modifier, f\"{metric.capitalize()} is\", len(result))\n"
     ]
    }
   ],
   "source": [
    "# --- Classification Baseline ---\n",
    "# Majority class prediction\n",
    "majority_class = df['target_up'].mode()[0]\n",
    "baseline_clf_preds = np.full(len(df), fill_value=majority_class)\n",
    "\n",
    "# Metrics\n",
    "acc = accuracy_score(df['target_up'], baseline_clf_preds)\n",
    "prec = precision_score(df['target_up'], baseline_clf_preds)\n",
    "rec = recall_score(df['target_up'], baseline_clf_preds)\n",
    "cm = confusion_matrix(df['target_up'], baseline_clf_preds)\n",
    "\n",
    "print(\"Classification Baseline (Always predict {})\".format(\n",
    "    \"Up\" if majority_class else \"Down\"\n",
    "))\n",
    "print(f\"Accuracy: {acc:.3f}\")\n",
    "print(f\"Precision: {prec:.3f}\")\n",
    "print(f\"Recall: {rec:.3f}\")\n",
    "print(\"Confusion Matrix:\\n\", cm)\n"
   ]
  },
  {
   "cell_type": "code",
   "execution_count": 59,
   "id": "973ac539",
   "metadata": {},
   "outputs": [
    {
     "name": "stdout",
     "output_type": "stream",
     "text": [
      "Baseline on Logistic’s Test Set:\n",
      "  Accuracy: 0.6595758071621877\n",
      "  Conf Matrix:\n",
      " [[10480     0]\n",
      " [ 5409     0]]\n",
      "  ROC AUC: 0.5\n"
     ]
    }
   ],
   "source": [
    "# Train/Test split Baseline Classification: \n",
    "df_model = df.dropna(subset=[\"surprise\", \"log_volume\", \"target_up\"])\n",
    "\n",
    "# Prepare predictors & target\n",
    "X = df_model[[\"surprise\", \"log_volume\"]]\n",
    "y = df_model[\"target_up\"]\n",
    "\n",
    "# Train/Test Split\n",
    "X_train, X_test, y_train, y_test = train_test_split(\n",
    "    X, y, test_size=0.2, random_state=42, stratify=y\n",
    ")\n",
    "baseline_preds = np.zeros_like(y_test)  # same “always Down” rule\n",
    "print(\"Baseline on Logistic’s Test Set:\")\n",
    "print(\"  Accuracy:\", accuracy_score(y_test, baseline_preds))\n",
    "print(\"  Conf Matrix:\\n\", confusion_matrix(y_test, baseline_preds))\n",
    "print(\"  ROC AUC:\", roc_auc_score(y_test, np.zeros_like(y_test)))"
   ]
  },
  {
   "cell_type": "code",
   "execution_count": 38,
   "id": "74101ed5",
   "metadata": {},
   "outputs": [
    {
     "name": "stdout",
     "output_type": "stream",
     "text": [
      "\n",
      "Regression Baseline (Always predict 0 return)\n",
      "Mean Squared Error: 13221639038.342815\n",
      "Mean Absolute Error: 1425.989777\n"
     ]
    }
   ],
   "source": [
    "# --- Regression Baseline ---\n",
    "# Always predict zero return\n",
    "y_true = df['return'].values\n",
    "baseline_reg_preds = np.zeros_like(y_true)\n",
    "\n",
    "mse = mean_squared_error(y_true, baseline_reg_preds)\n",
    "mae = mean_absolute_error(y_true, baseline_reg_preds)\n",
    "\n",
    "print(\"\\nRegression Baseline (Always predict 0 return)\")\n",
    "print(f\"Mean Squared Error: {mse:.6f}\")\n",
    "print(f\"Mean Absolute Error: {mae:.6f}\")"
   ]
  },
  {
   "cell_type": "markdown",
   "id": "59c75e67",
   "metadata": {},
   "source": [
    "### Linear Regression"
   ]
  },
  {
   "cell_type": "code",
   "execution_count": 41,
   "id": "306b062f",
   "metadata": {},
   "outputs": [],
   "source": [
    "from sklearn.model_selection import train_test_split\n",
    "from sklearn.linear_model import LinearRegression\n",
    "from sklearn.metrics import mean_squared_error, r2_score"
   ]
  },
  {
   "cell_type": "code",
   "execution_count": 42,
   "id": "01f2d49c",
   "metadata": {},
   "outputs": [],
   "source": [
    "# Read Data\n",
    "df = pd.read_csv(\n",
    "    \"cleaned_event_price_data.csv\",\n",
    "    parse_dates=[\"earnings_date\", \"trade_date\", \"date\"]\n",
    ")"
   ]
  },
  {
   "cell_type": "code",
   "execution_count": 43,
   "id": "5b1054bd",
   "metadata": {},
   "outputs": [],
   "source": [
    "# Feature Engineering\n",
    "df[\"surprise\"] = df[\"actual_eps\"] - df[\"consensus_eps\"]\n",
    "df[\"log_volume\"] = np.log1p(df[\"volume\"])  # log(volume + 1)\n",
    "df[\"return\"] = (df[\"close_adjusted\"] - df[\"open\"]) / df[\"open\"]"
   ]
  },
  {
   "cell_type": "code",
   "execution_count": 44,
   "id": "589e8a25",
   "metadata": {},
   "outputs": [],
   "source": [
    "# Drop any rows with missing values in features or target\n",
    "df_model = df.dropna(subset=[\"surprise\", \"log_volume\", \"return\"]).copy()\n",
    "\n",
    "# --- Prepare Predictors and Target ---\n",
    "X = df_model[[\"surprise\", \"log_volume\"]]\n",
    "y = df_model[\"return\"]\n",
    "\n",
    "# --- Train/Test Split (80% train, 20% test) ---\n",
    "X_train, X_test, y_train, y_test = train_test_split(\n",
    "    X, y, test_size=0.2, random_state=42\n",
    ")"
   ]
  },
  {
   "cell_type": "code",
   "execution_count": 45,
   "id": "d16630df",
   "metadata": {},
   "outputs": [
    {
     "name": "stdout",
     "output_type": "stream",
     "text": [
      "Linear Regression Performance:\n",
      "  • MSE: 19837366869.443577\n",
      "  • R²:  -0.030\n"
     ]
    }
   ],
   "source": [
    "# --- Fit Linear Regression ---\n",
    "lr = LinearRegression()\n",
    "lr.fit(X_train, y_train)\n",
    "\n",
    "# --- Predictions and Evaluation ---\n",
    "y_pred = lr.predict(X_test)\n",
    "mse = mean_squared_error(y_test, y_pred)\n",
    "r2 = r2_score(y_test, y_pred)\n",
    "\n",
    "print(\"Linear Regression Performance:\")\n",
    "print(f\"  • MSE: {mse:.6f}\")\n",
    "print(f\"  • R²:  {r2:.3f}\")"
   ]
  },
  {
   "cell_type": "code",
   "execution_count": 47,
   "id": "e08e8a9c",
   "metadata": {},
   "outputs": [
    {
     "data": {
      "text/html": [
       "<div>\n",
       "<style scoped>\n",
       "    .dataframe tbody tr th:only-of-type {\n",
       "        vertical-align: middle;\n",
       "    }\n",
       "\n",
       "    .dataframe tbody tr th {\n",
       "        vertical-align: top;\n",
       "    }\n",
       "\n",
       "    .dataframe thead th {\n",
       "        text-align: right;\n",
       "    }\n",
       "</style>\n",
       "<table border=\"1\" class=\"dataframe\">\n",
       "  <thead>\n",
       "    <tr style=\"text-align: right;\">\n",
       "      <th></th>\n",
       "      <th>feature</th>\n",
       "      <th>coefficient</th>\n",
       "      <th>intercept</th>\n",
       "    </tr>\n",
       "  </thead>\n",
       "  <tbody>\n",
       "    <tr>\n",
       "      <th>0</th>\n",
       "      <td>surprise</td>\n",
       "      <td>-2053.701709</td>\n",
       "      <td>-11840.499129</td>\n",
       "    </tr>\n",
       "    <tr>\n",
       "      <th>1</th>\n",
       "      <td>log_volume</td>\n",
       "      <td>971.172747</td>\n",
       "      <td>-11840.499129</td>\n",
       "    </tr>\n",
       "  </tbody>\n",
       "</table>\n",
       "</div>"
      ],
      "text/plain": [
       "      feature  coefficient     intercept\n",
       "0    surprise -2053.701709 -11840.499129\n",
       "1  log_volume   971.172747 -11840.499129"
      ]
     },
     "metadata": {},
     "output_type": "display_data"
    }
   ],
   "source": [
    "# --- Model Coefficients ---\n",
    "coeff_df = pd.DataFrame({\n",
    "    \"feature\": X.columns,\n",
    "    \"coefficient\": lr.coef_\n",
    "})\n",
    "coeff_df[\"intercept\"] = lr.intercept_\n",
    "display(coeff_df)"
   ]
  },
  {
   "cell_type": "markdown",
   "id": "2622c920",
   "metadata": {},
   "source": [
    "### Logistic Regression"
   ]
  },
  {
   "cell_type": "code",
   "execution_count": 48,
   "id": "726645f5",
   "metadata": {},
   "outputs": [],
   "source": [
    "from sklearn.model_selection import train_test_split\n",
    "from sklearn.linear_model import LogisticRegression\n",
    "from sklearn.preprocessing import StandardScaler\n",
    "from sklearn.metrics import (\n",
    "    accuracy_score, precision_score, recall_score,\n",
    "    roc_auc_score, confusion_matrix, classification_report\n",
    ")"
   ]
  },
  {
   "cell_type": "code",
   "execution_count": 49,
   "id": "9154c96e",
   "metadata": {},
   "outputs": [],
   "source": [
    "# Load cleaned event-price data\n",
    "df = pd.read_csv(\n",
    "    \"cleaned_event_price_data.csv\",\n",
    "    parse_dates=[\"earnings_date\", \"trade_date\", \"date\"]\n",
    ")"
   ]
  },
  {
   "cell_type": "code",
   "execution_count": 52,
   "id": "950581af",
   "metadata": {},
   "outputs": [],
   "source": [
    "# Feature engineering\n",
    "df[\"surprise\"] = df[\"actual_eps\"] - df[\"consensus_eps\"]\n",
    "df[\"log_volume\"] = np.log1p(df[\"volume\"])\n",
    "df[\"return\"] = (df[\"close_adjusted\"] - df[\"open\"]) / df[\"open\"]\n",
    "df[\"target_up\"] = (df[\"return\"] > 0).astype(int)"
   ]
  },
  {
   "cell_type": "code",
   "execution_count": 53,
   "id": "4deef1a0",
   "metadata": {},
   "outputs": [],
   "source": [
    "# Drop rows with missing values\n",
    "df_model = df.dropna(subset=[\"surprise\", \"log_volume\", \"target_up\"])\n",
    "\n",
    "# Prepare predictors & target\n",
    "X = df_model[[\"surprise\", \"log_volume\"]]\n",
    "y = df_model[\"target_up\"]\n",
    "\n",
    "# Train/Test Split\n",
    "X_train, X_test, y_train, y_test = train_test_split(\n",
    "    X, y, test_size=0.2, random_state=42, stratify=y\n",
    ")"
   ]
  },
  {
   "cell_type": "code",
   "execution_count": 54,
   "id": "13042354",
   "metadata": {},
   "outputs": [
    {
     "name": "stdout",
     "output_type": "stream",
     "text": [
      "Logistic Regression Classification Metrics:\n",
      "Accuracy:  0.660\n",
      "Precision: 0.000\n",
      "Recall:    0.000\n",
      "ROC AUC:   0.517\n",
      "\n",
      "Confusion Matrix:\n",
      "[[10480     0]\n",
      " [ 5409     0]]\n",
      "\n",
      "Classification Report:\n",
      "              precision    recall  f1-score   support\n",
      "\n",
      "        Down       0.66      1.00      0.79     10480\n",
      "          Up       0.00      0.00      0.00      5409\n",
      "\n",
      "    accuracy                           0.66     15889\n",
      "   macro avg       0.33      0.50      0.40     15889\n",
      "weighted avg       0.44      0.66      0.52     15889\n",
      "\n"
     ]
    },
    {
     "name": "stderr",
     "output_type": "stream",
     "text": [
      "/opt/anaconda3/envs/cis5450/lib/python3.13/site-packages/sklearn/metrics/_classification.py:1565: UndefinedMetricWarning: Precision is ill-defined and being set to 0.0 due to no predicted samples. Use `zero_division` parameter to control this behavior.\n",
      "  _warn_prf(average, modifier, f\"{metric.capitalize()} is\", len(result))\n",
      "/opt/anaconda3/envs/cis5450/lib/python3.13/site-packages/sklearn/metrics/_classification.py:1565: UndefinedMetricWarning: Precision is ill-defined and being set to 0.0 in labels with no predicted samples. Use `zero_division` parameter to control this behavior.\n",
      "  _warn_prf(average, modifier, f\"{metric.capitalize()} is\", len(result))\n",
      "/opt/anaconda3/envs/cis5450/lib/python3.13/site-packages/sklearn/metrics/_classification.py:1565: UndefinedMetricWarning: Precision is ill-defined and being set to 0.0 in labels with no predicted samples. Use `zero_division` parameter to control this behavior.\n",
      "  _warn_prf(average, modifier, f\"{metric.capitalize()} is\", len(result))\n",
      "/opt/anaconda3/envs/cis5450/lib/python3.13/site-packages/sklearn/metrics/_classification.py:1565: UndefinedMetricWarning: Precision is ill-defined and being set to 0.0 in labels with no predicted samples. Use `zero_division` parameter to control this behavior.\n",
      "  _warn_prf(average, modifier, f\"{metric.capitalize()} is\", len(result))\n"
     ]
    }
   ],
   "source": [
    "# Feature scaling\n",
    "scaler = StandardScaler()\n",
    "X_train_scaled = scaler.fit_transform(X_train)\n",
    "X_test_scaled = scaler.transform(X_test)\n",
    "\n",
    "# Fit logistic regression\n",
    "lr_clf = LogisticRegression(random_state=42, max_iter=1000)\n",
    "lr_clf.fit(X_train_scaled, y_train)\n",
    "\n",
    "# Predictions & evaluation\n",
    "y_pred = lr_clf.predict(X_test_scaled)\n",
    "y_proba = lr_clf.predict_proba(X_test_scaled)[:, 1]\n",
    "\n",
    "print(\"Logistic Regression Classification Metrics:\")\n",
    "print(f\"Accuracy:  {accuracy_score(y_test, y_pred):.3f}\")\n",
    "print(f\"Precision: {precision_score(y_test, y_pred):.3f}\")\n",
    "print(f\"Recall:    {recall_score(y_test, y_pred):.3f}\")\n",
    "print(f\"ROC AUC:   {roc_auc_score(y_test, y_proba):.3f}\")\n",
    "print(\"\\nConfusion Matrix:\")\n",
    "print(confusion_matrix(y_test, y_pred))\n",
    "print(\"\\nClassification Report:\")\n",
    "print(classification_report(y_test, y_pred, target_names=[\"Down\", \"Up\"]))"
   ]
  },
  {
   "cell_type": "code",
   "execution_count": 55,
   "id": "4f484163",
   "metadata": {},
   "outputs": [
    {
     "data": {
      "text/html": [
       "<div>\n",
       "<style scoped>\n",
       "    .dataframe tbody tr th:only-of-type {\n",
       "        vertical-align: middle;\n",
       "    }\n",
       "\n",
       "    .dataframe tbody tr th {\n",
       "        vertical-align: top;\n",
       "    }\n",
       "\n",
       "    .dataframe thead th {\n",
       "        text-align: right;\n",
       "    }\n",
       "</style>\n",
       "<table border=\"1\" class=\"dataframe\">\n",
       "  <thead>\n",
       "    <tr style=\"text-align: right;\">\n",
       "      <th></th>\n",
       "      <th>feature</th>\n",
       "      <th>coefficient</th>\n",
       "      <th>intercept</th>\n",
       "    </tr>\n",
       "  </thead>\n",
       "  <tbody>\n",
       "    <tr>\n",
       "      <th>0</th>\n",
       "      <td>surprise</td>\n",
       "      <td>-0.010393</td>\n",
       "      <td>-0.661403</td>\n",
       "    </tr>\n",
       "    <tr>\n",
       "      <th>1</th>\n",
       "      <td>log_volume</td>\n",
       "      <td>-0.029631</td>\n",
       "      <td>-0.661403</td>\n",
       "    </tr>\n",
       "  </tbody>\n",
       "</table>\n",
       "</div>"
      ],
      "text/plain": [
       "      feature  coefficient  intercept\n",
       "0    surprise    -0.010393  -0.661403\n",
       "1  log_volume    -0.029631  -0.661403"
      ]
     },
     "execution_count": 55,
     "metadata": {},
     "output_type": "execute_result"
    }
   ],
   "source": [
    "# Feature coefficients\n",
    "coef_df = pd.DataFrame({\n",
    "    \"feature\": [\"surprise\", \"log_volume\"],\n",
    "    \"coefficient\": lr_clf.coef_[0]\n",
    "})\n",
    "coef_df[\"intercept\"] = lr_clf.intercept_[0]\n",
    "coef_df"
   ]
  }
 ],
 "metadata": {
  "kernelspec": {
   "display_name": "cis5450",
   "language": "python",
   "name": "python3"
  },
  "language_info": {
   "codemirror_mode": {
    "name": "ipython",
    "version": 3
   },
   "file_extension": ".py",
   "mimetype": "text/x-python",
   "name": "python",
   "nbconvert_exporter": "python",
   "pygments_lexer": "ipython3",
   "version": "3.13.2"
  }
 },
 "nbformat": 4,
 "nbformat_minor": 5
}
