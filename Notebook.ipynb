{
 "cells": [
  {
   "cell_type": "markdown",
   "id": "c7e5b106",
   "metadata": {},
   "source": [
    "# CIS 5450 Final Project\n",
    "\n",
    "Dataset: https://www.kaggle.com/datasets/tsaustin/us-historical-stock-prices-with-earnings-data"
   ]
  },
  {
   "cell_type": "code",
   "execution_count": 151,
   "id": "be1d1060",
   "metadata": {},
   "outputs": [],
   "source": [
    "# Imports\n",
    "import pandas as pd\n",
    "import numpy as np\n",
    "import matplotlib.pyplot as plt\n",
    "import seaborn as sns"
   ]
  },
  {
   "cell_type": "code",
   "execution_count": 152,
   "id": "1cfc5c94",
   "metadata": {},
   "outputs": [],
   "source": [
    "# Load datasets\n",
    "prices = pd.read_csv(\n",
    "    \"./datasets/stock_prices_latest.csv\",\n",
    "    parse_dates=[\"date\"],\n",
    "    dtype={\"symbol\": str}\n",
    ")\n",
    "earnings = pd.read_csv(\n",
    "    \"./datasets/earnings_latest.csv\",\n",
    "    parse_dates=[\"date\"],\n",
    "    dtype={\"symbol\": str, \"announce_time\": str}\n",
    ")"
   ]
  },
  {
   "cell_type": "code",
   "execution_count": 153,
   "id": "a4c9cae7",
   "metadata": {},
   "outputs": [
    {
     "data": {
      "text/plain": [
       "Index(['symbol', 'date', 'qtr', 'eps_est', 'eps', 'release_time'], dtype='object')"
      ]
     },
     "metadata": {},
     "output_type": "display_data"
    },
    {
     "data": {
      "text/plain": [
       "Index(['symbol', 'date', 'open', 'high', 'low', 'close', 'close_adjusted',\n",
       "       'volume', 'split_coefficient'],\n",
       "      dtype='object')"
      ]
     },
     "metadata": {},
     "output_type": "display_data"
    }
   ],
   "source": [
    "display(earnings.columns)\n",
    "display(prices.columns)"
   ]
  },
  {
   "cell_type": "markdown",
   "id": "ef95282f",
   "metadata": {},
   "source": [
    "# Cleaning Dataset"
   ]
  },
  {
   "cell_type": "code",
   "execution_count": 154,
   "id": "805b74cc",
   "metadata": {},
   "outputs": [
    {
     "data": {
      "text/plain": [
       "Index(['symbol', 'earnings_date', 'qtr', 'consensus_eps', 'actual_eps',\n",
       "       'announce_time'],\n",
       "      dtype='object')"
      ]
     },
     "metadata": {},
     "output_type": "display_data"
    }
   ],
   "source": [
    "# Rename Columns\n",
    "earnings = earnings.rename(\n",
    "    columns={\n",
    "        \"date\": \"earnings_date\",\n",
    "        \"eps_est\": \"consensus_eps\",\n",
    "        \"eps\": \"actual_eps\",\n",
    "        \"release_time\": \"announce_time\"\n",
    "    }\n",
    ")\n",
    "display(earnings.columns)"
   ]
  },
  {
   "cell_type": "code",
   "execution_count": 155,
   "id": "9bf0be01",
   "metadata": {},
   "outputs": [],
   "source": [
    "# Drop events missing EPS or announcement time\n",
    "earnings = earnings.dropna(\n",
    "    subset=[\"consensus_eps\", \"actual_eps\", \"announce_time\"]\n",
    ").reset_index(drop=True)\n",
    "\n",
    "# Compute the effective trading date of the event\n",
    "def effective_trade_date(row):\n",
    "    # After Market Close (AMC) → next trading day; Before Market Open (BMO) → same day\n",
    "    if row[\"announce_time\"].upper().startswith(\"AMC\"):\n",
    "        return row[\"earnings_date\"] + pd.Timedelta(days=1)\n",
    "    else:\n",
    "        return row[\"earnings_date\"]\n",
    "\n",
    "earnings[\"trade_date\"] = earnings.apply(effective_trade_date, axis=1)"
   ]
  },
  {
   "cell_type": "code",
   "execution_count": 156,
   "id": "6d0ae673",
   "metadata": {},
   "outputs": [
    {
     "data": {
      "text/plain": [
       "(79444, 12)"
      ]
     },
     "execution_count": 156,
     "metadata": {},
     "output_type": "execute_result"
    }
   ],
   "source": [
    "# Restrict price data to the relevant date span (±5 days around events)\n",
    "min_date = earnings[\"trade_date\"].min() - pd.Timedelta(days=5)\n",
    "max_date = earnings[\"trade_date\"].max() + pd.Timedelta(days=5)\n",
    "prices = prices[\n",
    "    (prices[\"date\"] >= min_date) &\n",
    "    (prices[\"date\"] <= max_date)\n",
    "].copy()\n",
    "\n",
    "# Keep only adjusted prices to handle splits/dividends\n",
    "prices = prices[[\n",
    "    \"symbol\", \"date\", \"close_adjusted\", \"open\", \"high\", \"low\", \"volume\"\n",
    "]]\n",
    "\n",
    "# Merge earnings events with price data on effective trade date\n",
    "event_prices = pd.merge(\n",
    "    earnings[[\"symbol\", \"earnings_date\", \"trade_date\", \"actual_eps\", \"consensus_eps\", \"announce_time\"]],\n",
    "    prices,\n",
    "    left_on=[\"symbol\", \"trade_date\"],\n",
    "    right_on=[\"symbol\", \"date\"],\n",
    "    how=\"inner\"\n",
    ")\n",
    "\n",
    "# Drop duplicates and reset index\n",
    "event_prices = event_prices.drop_duplicates(subset=[\"symbol\", \"earnings_date\"]).reset_index(drop=True)\n",
    "\n",
    "# Save cleaned data for downstream analysis\n",
    "event_prices.to_csv(\"cleaned_event_price_data.csv\", index=False)\n",
    "\n",
    "# Display the shape of the cleaned dataset\n",
    "event_prices.shape"
   ]
  },
  {
   "cell_type": "markdown",
   "id": "30cc5f78",
   "metadata": {},
   "source": [
    "# EDA"
   ]
  },
  {
   "cell_type": "code",
   "execution_count": 7,
   "id": "75c19f13",
   "metadata": {},
   "outputs": [],
   "source": [
    "df = pd.read_csv(\"cleaned_event_price_data.csv\", parse_dates=[\"earnings_date\", \"trade_date\", \"date\"])\n",
    "\n",
    "# Compute earnings surprise and event-day return\n",
    "df['surprise'] = df['actual_eps'] - df['consensus_eps']\n",
    "df['return'] = (df['close_adjusted'] - df['open']) / df['open']\n",
    "\n",
    "# Create a binary indicator for beat vs. miss\n",
    "df['beat'] = df['surprise'] > 0\n",
    "\n",
    "# Extract the year of each earnings date\n",
    "df['year'] = df['earnings_date'].dt.year"
   ]
  },
  {
   "cell_type": "code",
   "execution_count": 8,
   "id": "24be5c88",
   "metadata": {},
   "outputs": [
    {
     "data": {
      "image/png": "[encoded data removed]",
      "text/plain": [
       "<Figure size 800x500 with 1 Axes>"
      ]
     },
     "metadata": {},
     "output_type": "display_data"
    }
   ],
   "source": [
    "# Set Seaborn style\n",
    "sns.set(style=\"whitegrid\")\n",
    "\n",
    "# 1. Distribution of Earnings Surprise\n",
    "plt.figure(figsize=(8, 5))\n",
    "sns.histplot(data=df, x='surprise', bins=30, kde=True)\n",
    "plt.title(\"Distribution of Earnings Surprise\", fontsize=14)\n",
    "plt.xlabel(\"EPS Surprise (Actual – Consensus)\")\n",
    "plt.ylabel(\"Frequency\")\n",
    "plt.tight_layout()\n",
    "plt.show()"
   ]
  },
  {
   "cell_type": "code",
   "execution_count": 9,
   "id": "8347f446",
   "metadata": {},
   "outputs": [
    {
     "data": {
      "image/png": "[encoded data removed]",
      "text/plain": [
       "<Figure size 800x500 with 1 Axes>"
      ]
     },
     "metadata": {},
     "output_type": "display_data"
    }
   ],
   "source": [
    "# 2. Boxplot: Event-Day Return by Beat vs. Miss\n",
    "plt.figure(figsize=(8, 5))\n",
    "sns.boxplot(data=df, x='beat', y='return')\n",
    "plt.title(\"Event-Day Return by EPS Beat vs. Miss\", fontsize=14)\n",
    "plt.xlabel(\"Beat (>0) or Miss (≤0)\")\n",
    "plt.ylabel(\"Return on Event Day\")\n",
    "plt.tight_layout()\n",
    "plt.show()"
   ]
  },
  {
   "cell_type": "code",
   "execution_count": 10,
   "id": "963ae49e",
   "metadata": {},
   "outputs": [
    {
     "data": {
      "image/png": "[encoded data removed]",
      "text/plain": [
       "<Figure size 800x500 with 1 Axes>"
      ]
     },
     "metadata": {},
     "output_type": "display_data"
    }
   ],
   "source": [
    "# 3. Scatter with Regression: Surprise vs. Event-Day Return\n",
    "plt.figure(figsize=(8, 5))\n",
    "sns.regplot(data=df, x='surprise', y='return', scatter_kws={'alpha':0.4}, line_kws={'color':'red'})\n",
    "plt.title(\"EPS Surprise vs. Event-Day Return\", fontsize=14)\n",
    "plt.xlabel(\"EPS Surprise\")\n",
    "plt.ylabel(\"Return on Event Day\")\n",
    "plt.tight_layout()\n",
    "plt.show()\n"
   ]
  },
  {
   "cell_type": "code",
   "execution_count": 11,
   "id": "2c65a43f",
   "metadata": {},
   "outputs": [
    {
     "data": {
      "image/png": "[encoded data removed]",
      "text/plain": [
       "<Figure size 800x500 with 1 Axes>"
      ]
     },
     "metadata": {},
     "output_type": "display_data"
    }
   ],
   "source": [
    "# 4. Count of Earnings Events per Year\n",
    "plt.figure(figsize=(8, 5))\n",
    "ax = sns.countplot(data=df, x='year')\n",
    "plt.title(\"Number of Earnings Announcements per Year\", fontsize=14)\n",
    "plt.xlabel(\"Year\")\n",
    "plt.ylabel(\"Event Count\")\n",
    "# Rotate x-axis labels for better readability\n",
    "plt.xticks(rotation=45)\n",
    "plt.tight_layout()\n",
    "plt.show()"
   ]
  },
  {
   "cell_type": "markdown",
   "id": "b4b71dfe",
   "metadata": {},
   "source": [
    "# Models - Baselines"
   ]
  },
  {
   "cell_type": "markdown",
   "id": "b4f4cf5a",
   "metadata": {},
   "source": [
    "### Always Predict "
   ]
  },
  {
   "cell_type": "code",
   "execution_count": 105,
   "id": "8c5da960",
   "metadata": {},
   "outputs": [],
   "source": [
    "from imblearn.combine import SMOTETomek\n",
    "smt = SMOTETomek(random_state=42)"
   ]
  },
  {
   "cell_type": "code",
   "execution_count": null,
   "id": "375b1693",
   "metadata": {},
   "outputs": [],
   "source": [
    "from sklearn.metrics import (\n",
    "    accuracy_score, precision_score, recall_score, confusion_matrix,\n",
    "    mean_squared_error, mean_absolute_error, classification_report, roc_auc_score\n",
    ")"
   ]
  },
  {
   "cell_type": "code",
   "execution_count": 108,
   "id": "dc80e703",
   "metadata": {},
   "outputs": [],
   "source": [
    "df = pd.read_csv(\n",
    "    \"cleaned_event_price_data.csv\",\n",
    "    parse_dates=[\"earnings_date\", \"trade_date\", \"date\"]\n",
    ")\n",
    "\n",
    "# Compute the intraday event‑day return\n",
    "df[\"return\"] = (df[\"close_adjusted\"] - df[\"open\"]) / df[\"open\"]\n",
    "\n",
    "df['target_up'] = df['return'] > 0"
   ]
  },
  {
   "cell_type": "code",
   "execution_count": 109,
   "id": "340c01be",
   "metadata": {},
   "outputs": [
    {
     "name": "stdout",
     "output_type": "stream",
     "text": [
      "Classification Baseline (Always predict Down)\n",
      "Accuracy: 0.660\n",
      "Precision: 0.000\n",
      "Recall: 0.000\n",
      "Confusion Matrix:\n",
      " [[52397     0]\n",
      " [27047     0]]\n"
     ]
    },
    {
     "name": "stderr",
     "output_type": "stream",
     "text": [
      "/opt/anaconda3/envs/cis5450/lib/python3.13/site-packages/sklearn/metrics/_classification.py:1565: UndefinedMetricWarning: Precision is ill-defined and being set to 0.0 due to no predicted samples. Use `zero_division` parameter to control this behavior.\n",
      "  _warn_prf(average, modifier, f\"{metric.capitalize()} is\", len(result))\n"
     ]
    }
   ],
   "source": [
    "# --- Classification Baseline ---\n",
    "# Majority class prediction\n",
    "majority_class = df['target_up'].mode()[0]\n",
    "baseline_clf_preds = np.full(len(df), fill_value=majority_class)\n",
    "\n",
    "# Metrics\n",
    "acc = accuracy_score(df['target_up'], baseline_clf_preds)\n",
    "prec = precision_score(df['target_up'], baseline_clf_preds)\n",
    "rec = recall_score(df['target_up'], baseline_clf_preds)\n",
    "cm = confusion_matrix(df['target_up'], baseline_clf_preds)\n",
    "\n",
    "print(\"Classification Baseline (Always predict {})\".format(\n",
    "    \"Up\" if majority_class else \"Down\"\n",
    "))\n",
    "print(f\"Accuracy: {acc:.3f}\")\n",
    "print(f\"Precision: {prec:.3f}\")\n",
    "print(f\"Recall: {rec:.3f}\")\n",
    "print(\"Confusion Matrix:\\n\", cm)\n"
   ]
  },
  {
   "cell_type": "code",
   "execution_count": 110,
   "id": "74101ed5",
   "metadata": {},
   "outputs": [
    {
     "name": "stdout",
     "output_type": "stream",
     "text": [
      "\n",
      "Regression Baseline (Always predict 0 return)\n",
      "Mean Squared Error: 13221639038.342815\n",
      "Mean Absolute Error: 1425.989777\n"
     ]
    }
   ],
   "source": [
    "# --- Regression Baseline ---\n",
    "# Always predict zero return\n",
    "y_true = df['return'].values\n",
    "baseline_reg_preds = np.zeros_like(y_true)\n",
    "\n",
    "mse = mean_squared_error(y_true, baseline_reg_preds)\n",
    "mae = mean_absolute_error(y_true, baseline_reg_preds)\n",
    "\n",
    "print(\"\\nRegression Baseline (Always predict 0 return)\")\n",
    "print(f\"Mean Squared Error: {mse:.6f}\")\n",
    "print(f\"Mean Absolute Error: {mae:.6f}\")"
   ]
  },
  {
   "cell_type": "markdown",
   "id": "2622c920",
   "metadata": {},
   "source": [
    "# Feature Engineering"
   ]
  },
  {
   "cell_type": "code",
   "execution_count": 126,
   "id": "726645f5",
   "metadata": {},
   "outputs": [],
   "source": [
    "from sklearn.model_selection import train_test_split\n",
    "from sklearn.linear_model import LogisticRegression\n",
    "from sklearn.preprocessing import StandardScaler\n",
    "from sklearn.metrics import (\n",
    "    accuracy_score, precision_score, recall_score,\n",
    "    roc_auc_score, confusion_matrix, classification_report,\n",
    "    precision_recall_curve\n",
    ")\n",
    "from sklearn.model_selection import GridSearchCV, StratifiedKFold, train_test_split\n",
    "from sklearn.linear_model import LogisticRegression\n",
    "from sklearn.preprocessing import StandardScaler\n",
    "from sklearn.pipeline import Pipeline\n",
    "from imblearn.pipeline import Pipeline as ImbPipeline\n",
    "from imblearn.combine import SMOTETomek\n",
    "from sklearn.metrics import precision_recall_curve\n",
    "from sklearn.model_selection import train_test_split\n",
    "from sklearn.linear_model import LinearRegression\n",
    "from sklearn.metrics import mean_squared_error, r2_score"
   ]
  },
  {
   "cell_type": "code",
   "execution_count": 161,
   "id": "9154c96e",
   "metadata": {},
   "outputs": [
    {
     "data": {
      "text/plain": [
       "Index(['symbol', 'earnings_date', 'trade_date', 'actual_eps', 'consensus_eps',\n",
       "       'announce_time', 'date', 'close_adjusted', 'open', 'high', 'low',\n",
       "       'volume'],\n",
       "      dtype='object')"
      ]
     },
     "metadata": {},
     "output_type": "display_data"
    }
   ],
   "source": [
    "# Load cleaned event-price data\n",
    "df = pd.read_csv(\n",
    "    \"cleaned_event_price_data.csv\",\n",
    "    parse_dates=[\"earnings_date\", \"trade_date\", \"date\"]\n",
    ")\n",
    "display(df.columns)"
   ]
  },
  {
   "cell_type": "code",
   "execution_count": 158,
   "id": "341cf6e1",
   "metadata": {},
   "outputs": [
    {
     "data": {
      "text/html": [
       "<div>\n",
       "<style scoped>\n",
       "    .dataframe tbody tr th:only-of-type {\n",
       "        vertical-align: middle;\n",
       "    }\n",
       "\n",
       "    .dataframe tbody tr th {\n",
       "        vertical-align: top;\n",
       "    }\n",
       "\n",
       "    .dataframe thead th {\n",
       "        text-align: right;\n",
       "    }\n",
       "</style>\n",
       "<table border=\"1\" class=\"dataframe\">\n",
       "  <thead>\n",
       "    <tr style=\"text-align: right;\">\n",
       "      <th></th>\n",
       "      <th>symbol</th>\n",
       "      <th>earnings_date</th>\n",
       "      <th>trade_date</th>\n",
       "      <th>actual_eps</th>\n",
       "      <th>consensus_eps</th>\n",
       "      <th>announce_time</th>\n",
       "      <th>date</th>\n",
       "      <th>close_adjusted</th>\n",
       "      <th>open</th>\n",
       "      <th>high</th>\n",
       "      <th>low</th>\n",
       "      <th>volume</th>\n",
       "    </tr>\n",
       "  </thead>\n",
       "  <tbody>\n",
       "    <tr>\n",
       "      <th>0</th>\n",
       "      <td>A</td>\n",
       "      <td>2012-11-19</td>\n",
       "      <td>2012-11-19</td>\n",
       "      <td>0.84</td>\n",
       "      <td>0.80</td>\n",
       "      <td>post</td>\n",
       "      <td>2012-11-19</td>\n",
       "      <td>25.6850</td>\n",
       "      <td>37.01</td>\n",
       "      <td>37.98</td>\n",
       "      <td>37.010</td>\n",
       "      <td>5121200</td>\n",
       "    </tr>\n",
       "    <tr>\n",
       "      <th>1</th>\n",
       "      <td>A</td>\n",
       "      <td>2013-02-14</td>\n",
       "      <td>2013-02-14</td>\n",
       "      <td>0.63</td>\n",
       "      <td>0.66</td>\n",
       "      <td>post</td>\n",
       "      <td>2013-02-14</td>\n",
       "      <td>30.6013</td>\n",
       "      <td>44.72</td>\n",
       "      <td>44.78</td>\n",
       "      <td>44.360</td>\n",
       "      <td>3845700</td>\n",
       "    </tr>\n",
       "    <tr>\n",
       "      <th>2</th>\n",
       "      <td>A</td>\n",
       "      <td>2013-05-14</td>\n",
       "      <td>2013-05-14</td>\n",
       "      <td>0.77</td>\n",
       "      <td>0.67</td>\n",
       "      <td>post</td>\n",
       "      <td>2013-05-14</td>\n",
       "      <td>30.2688</td>\n",
       "      <td>42.98</td>\n",
       "      <td>44.06</td>\n",
       "      <td>42.882</td>\n",
       "      <td>6082700</td>\n",
       "    </tr>\n",
       "    <tr>\n",
       "      <th>3</th>\n",
       "      <td>A</td>\n",
       "      <td>2013-08-14</td>\n",
       "      <td>2013-08-14</td>\n",
       "      <td>0.68</td>\n",
       "      <td>0.62</td>\n",
       "      <td>post</td>\n",
       "      <td>2013-08-14</td>\n",
       "      <td>32.1072</td>\n",
       "      <td>46.77</td>\n",
       "      <td>47.00</td>\n",
       "      <td>46.370</td>\n",
       "      <td>1987500</td>\n",
       "    </tr>\n",
       "    <tr>\n",
       "      <th>4</th>\n",
       "      <td>A</td>\n",
       "      <td>2013-11-14</td>\n",
       "      <td>2013-11-14</td>\n",
       "      <td>0.81</td>\n",
       "      <td>0.76</td>\n",
       "      <td>post</td>\n",
       "      <td>2013-11-14</td>\n",
       "      <td>34.9703</td>\n",
       "      <td>51.20</td>\n",
       "      <td>51.20</td>\n",
       "      <td>50.360</td>\n",
       "      <td>2834900</td>\n",
       "    </tr>\n",
       "    <tr>\n",
       "      <th>5</th>\n",
       "      <td>A</td>\n",
       "      <td>2014-02-13</td>\n",
       "      <td>2014-02-13</td>\n",
       "      <td>0.67</td>\n",
       "      <td>0.66</td>\n",
       "      <td>post</td>\n",
       "      <td>2014-02-13</td>\n",
       "      <td>41.6674</td>\n",
       "      <td>59.45</td>\n",
       "      <td>60.38</td>\n",
       "      <td>59.370</td>\n",
       "      <td>3092700</td>\n",
       "    </tr>\n",
       "    <tr>\n",
       "      <th>6</th>\n",
       "      <td>A</td>\n",
       "      <td>2014-08-14</td>\n",
       "      <td>2014-08-14</td>\n",
       "      <td>0.78</td>\n",
       "      <td>0.74</td>\n",
       "      <td>post</td>\n",
       "      <td>2014-08-14</td>\n",
       "      <td>38.7546</td>\n",
       "      <td>54.78</td>\n",
       "      <td>55.63</td>\n",
       "      <td>54.450</td>\n",
       "      <td>3478500</td>\n",
       "    </tr>\n",
       "    <tr>\n",
       "      <th>7</th>\n",
       "      <td>A</td>\n",
       "      <td>2014-11-17</td>\n",
       "      <td>2014-11-17</td>\n",
       "      <td>0.88</td>\n",
       "      <td>0.50</td>\n",
       "      <td>post</td>\n",
       "      <td>2014-11-17</td>\n",
       "      <td>39.9097</td>\n",
       "      <td>41.57</td>\n",
       "      <td>41.70</td>\n",
       "      <td>41.210</td>\n",
       "      <td>2697114</td>\n",
       "    </tr>\n",
       "    <tr>\n",
       "      <th>8</th>\n",
       "      <td>A</td>\n",
       "      <td>2015-02-17</td>\n",
       "      <td>2015-02-17</td>\n",
       "      <td>0.41</td>\n",
       "      <td>0.41</td>\n",
       "      <td>post</td>\n",
       "      <td>2015-02-17</td>\n",
       "      <td>39.3096</td>\n",
       "      <td>40.01</td>\n",
       "      <td>40.53</td>\n",
       "      <td>39.760</td>\n",
       "      <td>2874488</td>\n",
       "    </tr>\n",
       "    <tr>\n",
       "      <th>9</th>\n",
       "      <td>A</td>\n",
       "      <td>2015-05-18</td>\n",
       "      <td>2015-05-18</td>\n",
       "      <td>0.38</td>\n",
       "      <td>0.39</td>\n",
       "      <td>post</td>\n",
       "      <td>2015-05-18</td>\n",
       "      <td>41.4572</td>\n",
       "      <td>42.05</td>\n",
       "      <td>42.70</td>\n",
       "      <td>41.980</td>\n",
       "      <td>1965122</td>\n",
       "    </tr>\n",
       "  </tbody>\n",
       "</table>\n",
       "</div>"
      ],
      "text/plain": [
       "  symbol earnings_date trade_date  actual_eps  consensus_eps announce_time  \\\n",
       "0      A    2012-11-19 2012-11-19        0.84           0.80          post   \n",
       "1      A    2013-02-14 2013-02-14        0.63           0.66          post   \n",
       "2      A    2013-05-14 2013-05-14        0.77           0.67          post   \n",
       "3      A    2013-08-14 2013-08-14        0.68           0.62          post   \n",
       "4      A    2013-11-14 2013-11-14        0.81           0.76          post   \n",
       "5      A    2014-02-13 2014-02-13        0.67           0.66          post   \n",
       "6      A    2014-08-14 2014-08-14        0.78           0.74          post   \n",
       "7      A    2014-11-17 2014-11-17        0.88           0.50          post   \n",
       "8      A    2015-02-17 2015-02-17        0.41           0.41          post   \n",
       "9      A    2015-05-18 2015-05-18        0.38           0.39          post   \n",
       "\n",
       "        date  close_adjusted   open   high     low   volume  \n",
       "0 2012-11-19         25.6850  37.01  37.98  37.010  5121200  \n",
       "1 2013-02-14         30.6013  44.72  44.78  44.360  3845700  \n",
       "2 2013-05-14         30.2688  42.98  44.06  42.882  6082700  \n",
       "3 2013-08-14         32.1072  46.77  47.00  46.370  1987500  \n",
       "4 2013-11-14         34.9703  51.20  51.20  50.360  2834900  \n",
       "5 2014-02-13         41.6674  59.45  60.38  59.370  3092700  \n",
       "6 2014-08-14         38.7546  54.78  55.63  54.450  3478500  \n",
       "7 2014-11-17         39.9097  41.57  41.70  41.210  2697114  \n",
       "8 2015-02-17         39.3096  40.01  40.53  39.760  2874488  \n",
       "9 2015-05-18         41.4572  42.05  42.70  41.980  1965122  "
      ]
     },
     "metadata": {},
     "output_type": "display_data"
    }
   ],
   "source": [
    "display(df.head(10))"
   ]
  },
  {
   "cell_type": "code",
   "execution_count": 162,
   "id": "950581af",
   "metadata": {},
   "outputs": [],
   "source": [
    "# Feature engineering\n",
    "# EPS Suprise\n",
    "df[\"surprise\"] = df[\"actual_eps\"] - df[\"consensus_eps\"]\n",
    "\n",
    "# Log volume\n",
    "df[\"log_volume\"] = np.log1p(df[\"volume\"])\n",
    "\n",
    "# Event-day return\n",
    "df[\"return\"] = (df[\"close_adjusted\"] - df[\"open\"]) / df[\"open\"]\n",
    "\n",
    "# Create target variable: 1 if return > 0, else 0\n",
    "df[\"target_up\"] = (df[\"return\"] > 0).astype(int)\n",
    "\n",
    "\n",
    "# Market-Adjusted (Abnormal) Return\n",
    "spy = pd.read_csv(\n",
    "    \"./SPY_prices.csv\",\n",
    "    parse_dates=[\"date\"]\n",
    ")\n",
    "spy = spy.rename(columns={\"date\": \"spy_date\"})\n",
    "spy = spy.rename(columns={\"Open\":\"spy_open\",\"Close\":\"spy_close\"})\n",
    "df = df.merge(spy[[\"spy_date\",\"spy_open\",\"spy_close\"]], left_on=\"trade_date\", right_on=\"spy_date\", how=\"left\")\n",
    "df[\"spy_ret\"] = (df[\"spy_close\"] - df[\"spy_open\"]) / df[\"spy_open\"]\n",
    "df[\"abnormal_ret\"] = df[\"return\"] - df[\"spy_ret\"]\n",
    "\n",
    "# Pre-Announcement Momentum\n",
    "df = df.sort_values([\"symbol\",\"date\"])\n",
    "df[\"mom_5d\"] = df.groupby(\"symbol\")[\"close_adjusted\"].pct_change(periods=5)\n",
    "\n",
    "# Volatility\n",
    "df[\"daily_ret\"] = df.groupby(\"symbol\")[\"close_adjusted\"].pct_change()\n",
    "df[\"vol_20d\"] = (\n",
    "    df.groupby(\"symbol\")[\"daily_ret\"]\n",
    "      .rolling(20, min_periods=5)\n",
    "      .std()\n",
    "      .reset_index(level=0, drop=True)\n",
    ")\n",
    "\n",
    "# Load sector lookup\n",
    "sectors = pd.read_csv(\"constituents.csv\", usecols=[\"Symbol\",\"GICS Sector\"])\n",
    "sectors = sectors.rename(columns={\"Symbol\":\"symbol\",\"GICS Sector\":\"sector\"})\n",
    "\n",
    "# Merge on ticker\n",
    "df = df.merge(sectors, on=\"symbol\", how=\"left\")\n",
    "sector_dummies = pd.get_dummies(df[\"sector\"], prefix=\"sect\")\n",
    "df = pd.concat([df, sector_dummies], axis=1)"
   ]
  },
  {
   "cell_type": "code",
   "execution_count": 163,
   "id": "01e92f3f",
   "metadata": {},
   "outputs": [
    {
     "data": {
      "text/plain": [
       "Index(['symbol', 'earnings_date', 'trade_date', 'actual_eps', 'consensus_eps',\n",
       "       'announce_time', 'date', 'close_adjusted', 'open', 'high', 'low',\n",
       "       'volume', 'surprise', 'log_volume', 'return', 'target_up', 'spy_date',\n",
       "       'spy_open', 'spy_close', 'spy_ret', 'abnormal_ret', 'mom_5d',\n",
       "       'daily_ret', 'vol_20d', 'sector', 'sect_Communication Services',\n",
       "       'sect_Consumer Discretionary', 'sect_Consumer Staples', 'sect_Energy',\n",
       "       'sect_Financials', 'sect_Health Care', 'sect_Industrials',\n",
       "       'sect_Information Technology', 'sect_Materials', 'sect_Real Estate',\n",
       "       'sect_Utilities'],\n",
       "      dtype='object')"
      ]
     },
     "metadata": {},
     "output_type": "display_data"
    }
   ],
   "source": [
    "display(df.columns)"
   ]
  },
  {
   "cell_type": "code",
   "execution_count": 175,
   "id": "81ea5d17",
   "metadata": {},
   "outputs": [],
   "source": [
    "# --- 2. Event Timing Flag ---\n",
    "# release_time already loaded as \"announce_time\", with values like \"BMO\"/\"AMC\"\n",
    "# Create a binary feature: 1 if After Market Close, 0 if Before Market Open\n",
    "df[\"after_market\"] = df[\"announce_time\"].str.upper().str.startswith(\"PRE\").astype(int)"
   ]
  },
  {
   "cell_type": "code",
   "execution_count": null,
   "id": "e6160ee3",
   "metadata": {},
   "outputs": [
    {
     "name": "stderr",
     "output_type": "stream",
     "text": [
      "/var/folders/p1/hw7j77550kb0wyck0r6489lm0000gn/T/ipykernel_76554/2205344493.py:12: DeprecationWarning: DataFrameGroupBy.apply operated on the grouping columns. This behavior is deprecated, and in a future version of pandas the grouping columns will be excluded from the operation. Either pass `include_groups=False` to exclude the groupings or explicitly select the grouping columns after groupby to silence this warning.\n",
      "  eps_history = eps_history.groupby(\"symbol\").apply(\n"
     ]
    }
   ],
   "source": [
    "# --- 3. Consensus EPS Revision (1-month) ---\n",
    "# Requires a DataFrame `eps_history` with columns [\"symbol\",\"earnings_date\",\"consensus_eps\"]\n",
    "# assumed sorted by date\n",
    "# Compute prior consensus one month (30 days) before each event:\n",
    "eps_history = df[[\"symbol\",\"earnings_date\",\"consensus_eps\"]].drop_duplicates().sort_values([\"symbol\",\"earnings_date\"])\n",
    "eps_history[\"prior_date\"] = eps_history[\"earnings_date\"] - pd.Timedelta(days=30)\n",
    "# Merge to find the last consensus before prior_date\n",
    "eps_history = eps_history.merge(\n",
    "    eps_history[[\"symbol\",\"earnings_date\",\"consensus_eps\"]]\n",
    "      .rename(columns={\"earnings_date\":\"match_date\",\"consensus_eps\":\"prior_eps\"}),\n",
    "    left_on=[\"symbol\",\"prior_date\"],\n",
    "    right_on=[\"symbol\",\"match_date\"],\n",
    "    how=\"left\"\n",
    ")\n",
    "# Forward‐fill within each symbol to carry the last known consensus\n",
    "eps_history = eps_history.groupby(\"symbol\").apply(\n",
    "    lambda g: g.sort_values(\"match_date\").ffill()\n",
    ").reset_index(drop=True)\n",
    "# Calculate revision (% change)\n",
    "eps_history[\"eps_rev_1m\"] = (eps_history[\"consensus_eps\"] - eps_history[\"prior_eps\"]) / eps_history[\"prior_eps\"]\n",
    "# Merge back into main df\n",
    "df = df.merge(\n",
    "    eps_history[[\"symbol\",\"earnings_date\",\"eps_rev_1m\"]],\n",
    "    on=[\"symbol\",\"earnings_date\"],\n",
    "    how=\"left\"\n",
    ")\n",
    "# Fill missing revisions with 0 (no change)\n",
    "df[\"eps_rev_1m\"] = df[\"eps_rev_1m\"].fillna(0)"
   ]
  },
  {
   "cell_type": "code",
   "execution_count": 124,
   "id": "4deef1a0",
   "metadata": {},
   "outputs": [],
   "source": [
    "# Drop rows with missing values\n",
    "df_model = df.dropna(subset=[\"surprise\", \"log_volume\", \"target_up\",\"mom_5d\", \"vol_20d\", \"abnormal_ret\"])\n",
    "\n",
    "# Prepare predictors & target\n",
    "X = df_model[[\"surprise\", \"log_volume\", \"mom_5d\", \"vol_20d\", \"abnormal_ret\",]]\n",
    "y = df_model[\"target_up\"]\n",
    "\n",
    "# Train/Test Split\n",
    "X_train, X_test, y_train, y_test = train_test_split(\n",
    "    X, y, test_size=0.2, random_state=42, stratify=y\n",
    ")"
   ]
  },
  {
   "cell_type": "markdown",
   "id": "0c5d896e",
   "metadata": {},
   "source": [
    "# Logistic Regression"
   ]
  },
  {
   "cell_type": "code",
   "execution_count": 127,
   "id": "13042354",
   "metadata": {},
   "outputs": [
    {
     "name": "stdout",
     "output_type": "stream",
     "text": [
      "Fitting 5 folds for each of 8 candidates, totalling 40 fits\n"
     ]
    },
    {
     "name": "stderr",
     "output_type": "stream",
     "text": [
      "/opt/anaconda3/envs/cis5450/lib/python3.13/site-packages/sklearn/svm/_base.py:1249: ConvergenceWarning: Liblinear failed to converge, increase the number of iterations.\n",
      "  warnings.warn(\n",
      "/opt/anaconda3/envs/cis5450/lib/python3.13/site-packages/sklearn/svm/_base.py:1249: ConvergenceWarning: Liblinear failed to converge, increase the number of iterations.\n",
      "  warnings.warn(\n",
      "/opt/anaconda3/envs/cis5450/lib/python3.13/site-packages/sklearn/svm/_base.py:1249: ConvergenceWarning: Liblinear failed to converge, increase the number of iterations.\n",
      "  warnings.warn(\n"
     ]
    },
    {
     "name": "stdout",
     "output_type": "stream",
     "text": [
      "Best params: {'C': 0.01, 'penalty': 'l1', 'solver': 'liblinear'}\n",
      "Best CV balanced accuracy: 0.5498375645541133\n",
      "Logistic Regression Classification Metrics:\n",
      "Accuracy:  0.409\n",
      "Precision: 0.371\n",
      "Recall:    0.935\n",
      "ROC AUC:   0.579\n",
      "\n",
      "Confusion Matrix:\n",
      "[[ 892 6714]\n",
      " [ 276 3954]]\n",
      "\n",
      "Classification Report:\n",
      "              precision    recall  f1-score   support\n",
      "\n",
      "        Down       0.76      0.12      0.20      7606\n",
      "          Up       0.37      0.93      0.53      4230\n",
      "\n",
      "    accuracy                           0.41     11836\n",
      "   macro avg       0.57      0.53      0.37     11836\n",
      "weighted avg       0.62      0.41      0.32     11836\n",
      "\n"
     ]
    },
    {
     "name": "stderr",
     "output_type": "stream",
     "text": [
      "/opt/anaconda3/envs/cis5450/lib/python3.13/site-packages/sklearn/svm/_base.py:1249: ConvergenceWarning: Liblinear failed to converge, increase the number of iterations.\n",
      "  warnings.warn(\n"
     ]
    }
   ],
   "source": [
    "# Feature scaling\n",
    "scaler = StandardScaler()\n",
    "X_train_scaled = scaler.fit_transform(X_train)\n",
    "X_test_scaled = scaler.transform(X_test)\n",
    "\n",
    "# Fit logistic regression\n",
    "from sklearn.model_selection import GridSearchCV, TimeSeriesSplit\n",
    "from sklearn.linear_model import LogisticRegression\n",
    "\n",
    "# 3. Hyperparameter Search (after scaling, before fitting final model)\n",
    "param_grid = {\n",
    "    \"C\": [0.01, 0.1, 1, 10],\n",
    "    \"penalty\": [\"l2\", \"l1\"],\n",
    "    \"solver\": [\"liblinear\"]  # 'liblinear' supports L1 penalty\n",
    "}\n",
    "\n",
    "# Use time-series split or stratified k-fold\n",
    "tscv = TimeSeriesSplit(n_splits=5)\n",
    "grid = GridSearchCV(\n",
    "    LogisticRegression(class_weight=\"balanced\", max_iter=1000, random_state=42),\n",
    "    param_grid,\n",
    "    cv=tscv,\n",
    "    scoring=\"balanced_accuracy\",\n",
    "    n_jobs=-1,\n",
    "    verbose=1\n",
    ")\n",
    "\n",
    "grid.fit(X_train_scaled, y_train)\n",
    "print(\"Best params:\", grid.best_params_)\n",
    "print(\"Best CV balanced accuracy:\", grid.best_score_)\n",
    "\n",
    "# 4. Re-fit the model with best parameters\n",
    "best_lr = grid.best_estimator_\n",
    "\n",
    "# Predictions & evaluation\n",
    "y_pred = best_lr.predict(X_test_scaled)\n",
    "y_proba = best_lr.predict_proba(X_test_scaled)[:, 1]\n",
    "\n",
    "# 7. Threshold tuning via precision–recall\n",
    "precisions, recalls, thresholds = precision_recall_curve(y_test, y_proba)\n",
    "f1_scores = 2 * (precisions * recalls) / (precisions + recalls)\n",
    "best_idx = np.nanargmax(f1_scores)\n",
    "best_thresh = thresholds[best_idx]\n",
    "\n",
    "# 8. Final predictions with tuned threshold\n",
    "y_pred = (y_proba >= best_thresh).astype(int)\n",
    "\n",
    "# 9. Evaluate\n",
    "\n",
    "print(\"Logistic Regression Classification Metrics:\")\n",
    "print(f\"Accuracy:  {accuracy_score(y_test, y_pred):.3f}\")\n",
    "print(f\"Precision: {precision_score(y_test, y_pred):.3f}\")\n",
    "print(f\"Recall:    {recall_score(y_test, y_pred):.3f}\")\n",
    "print(f\"ROC AUC:   {roc_auc_score(y_test, y_proba):.3f}\")\n",
    "print(\"\\nConfusion Matrix:\")\n",
    "print(confusion_matrix(y_test, y_pred))\n",
    "print(\"\\nClassification Report:\")\n",
    "print(classification_report(y_test, y_pred, target_names=[\"Down\", \"Up\"]))"
   ]
  },
  {
   "cell_type": "code",
   "execution_count": 128,
   "id": "0934b679",
   "metadata": {},
   "outputs": [
    {
     "name": "stdout",
     "output_type": "stream",
     "text": [
      "Best threshold by F1: 0.48 F1: 0.528915127277344\n",
      "Best threshold by Balanced Accuracy: 0.5 Balanced Acc: 0.5577246158159324\n"
     ]
    },
    {
     "data": {
      "image/png": "[encoded data removed]",
      "text/plain": [
       "<Figure size 800x400 with 1 Axes>"
      ]
     },
     "metadata": {},
     "output_type": "display_data"
    },
    {
     "name": "stdout",
     "output_type": "stream",
     "text": [
      "\n",
      "Evaluation at optimal threshold = 0.50\n",
      "Balanced Accuracy: 0.5577246158159324\n",
      "Classification Report:\n",
      "               precision    recall  f1-score   support\n",
      "\n",
      "        Down       0.68      0.68      0.68      7606\n",
      "          Up       0.43      0.44      0.43      4230\n",
      "\n",
      "    accuracy                           0.59     11836\n",
      "   macro avg       0.56      0.56      0.56     11836\n",
      "weighted avg       0.59      0.59      0.59     11836\n",
      "\n",
      "Confusion Matrix:\n",
      " [[5163 2443]\n",
      " [2383 1847]]\n"
     ]
    }
   ],
   "source": [
    "import numpy as np\n",
    "import pandas as pd\n",
    "from sklearn.metrics import f1_score, balanced_accuracy_score\n",
    "# Assume lr_clf and X_test_scaled, y_test are defined from previous cells\n",
    "\n",
    "# 1. Assume y_proba is already computed\n",
    "# y_proba = lr_clf.predict_proba(X_test_scaled)[:, 1]\n",
    "\n",
    "# 2. Define candidate thresholds\n",
    "thresholds = np.linspace(0.0, 1.0, 101)\n",
    "\n",
    "# 3. Evaluate metrics at each threshold\n",
    "results = []\n",
    "for thr in thresholds:\n",
    "    y_pred_thr = (y_proba >= thr).astype(int)\n",
    "    f1 = f1_score(y_test, y_pred_thr)\n",
    "    bal_acc = balanced_accuracy_score(y_test, y_pred_thr)\n",
    "    results.append({\"threshold\": thr, \"f1\": f1, \"balanced_accuracy\": bal_acc})\n",
    "\n",
    "results_df = pd.DataFrame(results)\n",
    "\n",
    "# 4. Find best threshold by F1 and by balanced accuracy\n",
    "best_f1 = results_df.loc[results_df[\"f1\"].idxmax()]\n",
    "best_bal = results_df.loc[results_df[\"balanced_accuracy\"].idxmax()]\n",
    "\n",
    "print(\"Best threshold by F1:\", best_f1[\"threshold\"], \"F1:\", best_f1[\"f1\"])\n",
    "print(\"Best threshold by Balanced Accuracy:\", best_bal[\"threshold\"], \n",
    "      \"Balanced Acc:\", best_bal[\"balanced_accuracy\"])\n",
    "\n",
    "# 5. Plot metrics vs. threshold\n",
    "import matplotlib.pyplot as plt\n",
    "\n",
    "plt.figure(figsize=(8, 4))\n",
    "plt.plot(results_df[\"threshold\"], results_df[\"f1\"], label=\"F1 Score\")\n",
    "plt.plot(results_df[\"threshold\"], results_df[\"balanced_accuracy\"], label=\"Balanced Acc\")\n",
    "plt.xlabel(\"Threshold\")\n",
    "plt.ylabel(\"Metric\")\n",
    "plt.title(\"F1 and Balanced Accuracy vs. Threshold\")\n",
    "plt.legend()\n",
    "plt.show()\n",
    "\n",
    "# 6. Apply the chosen threshold (e.g., best_bal threshold)\n",
    "opt_thr = best_bal[\"threshold\"]\n",
    "y_pred_opt = (y_proba >= opt_thr).astype(int)\n",
    "\n",
    "# 7. Final evaluation\n",
    "from sklearn.metrics import classification_report, confusion_matrix\n",
    "print(f\"\\nEvaluation at optimal threshold = {opt_thr:.2f}\")\n",
    "print(\"Balanced Accuracy:\", balanced_accuracy_score(y_test, y_pred_opt))\n",
    "print(\"Classification Report:\\n\", classification_report(y_test, y_pred_opt, target_names=[\"Down\",\"Up\"]))\n",
    "print(\"Confusion Matrix:\\n\", confusion_matrix(y_test, y_pred_opt))"
   ]
  },
  {
   "cell_type": "markdown",
   "id": "1f5bcc5c",
   "metadata": {},
   "source": [
    "# Linear Regression"
   ]
  },
  {
   "cell_type": "code",
   "execution_count": 129,
   "id": "9411bea2",
   "metadata": {},
   "outputs": [
    {
     "name": "stdout",
     "output_type": "stream",
     "text": [
      "Linear Regression Performance:\n",
      "  • MSE: 0.229018\n",
      "  • R²:  0.003\n"
     ]
    }
   ],
   "source": [
    "# --- Fit Linear Regression ---\n",
    "lr = LinearRegression()\n",
    "lr.fit(X_train, y_train)\n",
    "\n",
    "# --- Predictions and Evaluation ---\n",
    "y_pred = lr.predict(X_test)\n",
    "mse = mean_squared_error(y_test, y_pred)\n",
    "r2 = r2_score(y_test, y_pred)\n",
    "\n",
    "print(\"Linear Regression Performance:\")\n",
    "print(f\"  • MSE: {mse:.6f}\")\n",
    "print(f\"  • R²:  {r2:.3f}\")"
   ]
  },
  {
   "cell_type": "code",
   "execution_count": 130,
   "id": "e31c95db",
   "metadata": {},
   "outputs": [
    {
     "name": "stdout",
     "output_type": "stream",
     "text": [
      "Ridge Regression α: 100\n",
      "Ridge MSE: 0.22901781388028283\n",
      "Ridge R²: 0.0027994961533397422\n"
     ]
    }
   ],
   "source": [
    "from sklearn.linear_model import Ridge\n",
    "from sklearn.model_selection import GridSearchCV\n",
    "\n",
    "# 1a. Scale features\n",
    "from sklearn.preprocessing import StandardScaler\n",
    "scaler = StandardScaler()\n",
    "X_train_scaled = scaler.fit_transform(X_train)\n",
    "X_test_scaled  = scaler.transform(X_test)\n",
    "\n",
    "# 1b. Hyperparameter tune alpha\n",
    "param_grid = {\"alpha\": [0.01, 0.1, 1, 10, 100]}\n",
    "ridge = Ridge(random_state=42)\n",
    "grid_ridge = GridSearchCV(ridge, param_grid, cv=5, scoring=\"neg_mean_squared_error\")\n",
    "grid_ridge.fit(X_train_scaled, y_train)\n",
    "\n",
    "best_ridge = grid_ridge.best_estimator_\n",
    "y_pred_ridge = best_ridge.predict(X_test_scaled)\n",
    "\n",
    "print(\"Ridge Regression α:\", grid_ridge.best_params_[\"alpha\"])\n",
    "print(\"Ridge MSE:\", mean_squared_error(y_test, y_pred_ridge))\n",
    "print(\"Ridge R²:\", r2_score(y_test, y_pred_ridge))\n"
   ]
  },
  {
   "cell_type": "code",
   "execution_count": 131,
   "id": "47752502",
   "metadata": {},
   "outputs": [
    {
     "name": "stdout",
     "output_type": "stream",
     "text": [
      "Lasso Regression α: 0.001\n",
      "Lasso MSE: 0.22901149974815832\n",
      "Lasso R²: 0.002826989454534301\n"
     ]
    }
   ],
   "source": [
    "from sklearn.linear_model import Lasso\n",
    "\n",
    "param_grid = {\"alpha\": [0.001, 0.01, 0.1, 1]}\n",
    "lasso = Lasso(random_state=42, max_iter=5000)\n",
    "grid_lasso = GridSearchCV(lasso, param_grid, cv=5, scoring=\"neg_mean_squared_error\")\n",
    "grid_lasso.fit(X_train_scaled, y_train)\n",
    "\n",
    "best_lasso = grid_lasso.best_estimator_\n",
    "y_pred_lasso = best_lasso.predict(X_test_scaled)\n",
    "\n",
    "print(\"Lasso Regression α:\", grid_lasso.best_params_[\"alpha\"])\n",
    "print(\"Lasso MSE:\", mean_squared_error(y_test, y_pred_lasso))\n",
    "print(\"Lasso R²:\", r2_score(y_test, y_pred_lasso))\n"
   ]
  },
  {
   "cell_type": "code",
   "execution_count": 132,
   "id": "9a131d8e",
   "metadata": {},
   "outputs": [
    {
     "name": "stdout",
     "output_type": "stream",
     "text": [
      "Polynomial Ridge MSE: 0.2277107338100762\n",
      "Polynomial Ridge R²: 0.008490847766971621\n"
     ]
    }
   ],
   "source": [
    "from sklearn.preprocessing import PolynomialFeatures\n",
    "\n",
    "poly = PolynomialFeatures(degree=2, interaction_only=False, include_bias=False)\n",
    "X_train_poly = poly.fit_transform(X_train_scaled)\n",
    "X_test_poly  = poly.transform(X_test_scaled)\n",
    "\n",
    "lr_poly = Ridge(alpha=1.0, random_state=42)\n",
    "lr_poly.fit(X_train_poly, y_train)\n",
    "y_pred_poly = lr_poly.predict(X_test_poly)\n",
    "\n",
    "print(\"Polynomial Ridge MSE:\", mean_squared_error(y_test, y_pred_poly))\n",
    "print(\"Polynomial Ridge R²:\", r2_score(y_test, y_pred_poly))"
   ]
  },
  {
   "cell_type": "code",
   "execution_count": 134,
   "id": "c493e579",
   "metadata": {},
   "outputs": [
    {
     "name": "stdout",
     "output_type": "stream",
     "text": [
      "TimeSeries R² CV scores: [0.00210045 0.00175552 0.00119333 0.00381216 0.00266843]\n",
      "Mean R² CV: 0.0023059774995827674\n"
     ]
    }
   ],
   "source": [
    "from sklearn.model_selection import TimeSeriesSplit, cross_val_score\n",
    "\n",
    "tscv = TimeSeriesSplit(n_splits=5)\n",
    "scores = cross_val_score(best_ridge, X_train_scaled, y_train,\n",
    "                         cv=tscv, scoring=\"r2\")\n",
    "print(\"TimeSeries R² CV scores:\", scores)\n",
    "print(\"Mean R² CV:\", scores.mean())"
   ]
  },
  {
   "cell_type": "code",
   "execution_count": 133,
   "id": "bbfc8ca8",
   "metadata": {},
   "outputs": [
    {
     "data": {
      "text/html": [
       "<div>\n",
       "<style scoped>\n",
       "    .dataframe tbody tr th:only-of-type {\n",
       "        vertical-align: middle;\n",
       "    }\n",
       "\n",
       "    .dataframe tbody tr th {\n",
       "        vertical-align: top;\n",
       "    }\n",
       "\n",
       "    .dataframe thead th {\n",
       "        text-align: right;\n",
       "    }\n",
       "</style>\n",
       "<table border=\"1\" class=\"dataframe\">\n",
       "  <thead>\n",
       "    <tr style=\"text-align: right;\">\n",
       "      <th></th>\n",
       "      <th>feature</th>\n",
       "      <th>coefficient</th>\n",
       "      <th>intercept</th>\n",
       "    </tr>\n",
       "  </thead>\n",
       "  <tbody>\n",
       "    <tr>\n",
       "      <th>0</th>\n",
       "      <td>surprise</td>\n",
       "      <td>1.111373e-04</td>\n",
       "      <td>0.40958</td>\n",
       "    </tr>\n",
       "    <tr>\n",
       "      <th>1</th>\n",
       "      <td>log_volume</td>\n",
       "      <td>-4.627554e-03</td>\n",
       "      <td>0.40958</td>\n",
       "    </tr>\n",
       "    <tr>\n",
       "      <th>2</th>\n",
       "      <td>mom_5d</td>\n",
       "      <td>3.184442e-03</td>\n",
       "      <td>0.40958</td>\n",
       "    </tr>\n",
       "    <tr>\n",
       "      <th>3</th>\n",
       "      <td>vol_20d</td>\n",
       "      <td>4.473279e-02</td>\n",
       "      <td>0.40958</td>\n",
       "    </tr>\n",
       "    <tr>\n",
       "      <th>4</th>\n",
       "      <td>abnormal_ret</td>\n",
       "      <td>6.969967e-08</td>\n",
       "      <td>0.40958</td>\n",
       "    </tr>\n",
       "  </tbody>\n",
       "</table>\n",
       "</div>"
      ],
      "text/plain": [
       "        feature   coefficient  intercept\n",
       "0      surprise  1.111373e-04    0.40958\n",
       "1    log_volume -4.627554e-03    0.40958\n",
       "2        mom_5d  3.184442e-03    0.40958\n",
       "3       vol_20d  4.473279e-02    0.40958\n",
       "4  abnormal_ret  6.969967e-08    0.40958"
      ]
     },
     "metadata": {},
     "output_type": "display_data"
    }
   ],
   "source": [
    "# --- Model Coefficients ---\n",
    "coeff_df = pd.DataFrame({\n",
    "    \"feature\": X.columns,\n",
    "    \"coefficient\": lr.coef_\n",
    "})\n",
    "coeff_df[\"intercept\"] = lr.intercept_\n",
    "display(coeff_df)"
   ]
  },
  {
   "cell_type": "markdown",
   "id": "a7d236ae",
   "metadata": {},
   "source": [
    "# Random Forest"
   ]
  },
  {
   "cell_type": "code",
   "execution_count": 137,
   "id": "66343fb9",
   "metadata": {},
   "outputs": [],
   "source": [
    "from sklearn.ensemble import RandomForestClassifier\n",
    "from sklearn.model_selection import RandomizedSearchCV, TimeSeriesSplit, train_test_split\n",
    "from sklearn.metrics import roc_auc_score, balanced_accuracy_score, classification_report, confusion_matrix"
   ]
  },
  {
   "cell_type": "code",
   "execution_count": null,
   "id": "f67aa8e5",
   "metadata": {},
   "outputs": [],
   "source": [
    "# Drop rows with missing values\n",
    "df_model = df.dropna(subset=[\"surprise\", \"log_volume\", \"target_up\",\"mom_5d\", \"vol_20d\",])\n",
    "\n",
    "# Prepare predictors & target\n",
    "X = df_model[[\"surprise\", \"log_volume\", \"mom_5d\", \"vol_20d\",]]\n",
    "y = df_model[\"target_up\"]\n",
    "\n",
    "# Train/Test Split\n",
    "X_train, X_test, y_train, y_test = train_test_split(\n",
    "    X, y, test_size=0.2, random_state=42, stratify=y\n",
    ")"
   ]
  },
  {
   "cell_type": "code",
   "execution_count": 142,
   "id": "8af031f0",
   "metadata": {},
   "outputs": [
    {
     "name": "stdout",
     "output_type": "stream",
     "text": [
      "Fitting 5 folds for each of 20 candidates, totalling 100 fits\n",
      "Best RF params: {'n_estimators': 100, 'min_samples_leaf': 1, 'max_features': 'sqrt', 'max_depth': 5}\n",
      "Random Forest Test ROC AUC: 0.9821338634610352\n",
      "Random Forest Test Balanced Accuracy: 0.9383951577359917\n",
      "\n",
      "Classification Report:\n",
      "               precision    recall  f1-score   support\n",
      "\n",
      "        Down       0.97      0.94      0.95      7606\n",
      "          Up       0.89      0.94      0.92      4230\n",
      "\n",
      "    accuracy                           0.94     11836\n",
      "   macro avg       0.93      0.94      0.93     11836\n",
      "weighted avg       0.94      0.94      0.94     11836\n",
      "\n",
      "Confusion Matrix:\n",
      " [[7113  493]\n",
      " [ 247 3983]]\n",
      "\n",
      "Feature Importances:\n",
      " abnormal_ret    0.970698\n",
      "vol_20d         0.022379\n",
      "mom_5d          0.003035\n",
      "surprise        0.002400\n",
      "log_volume      0.001489\n",
      "dtype: float64\n"
     ]
    }
   ],
   "source": [
    "\n",
    "# 5. Define model and hyperparameter space\n",
    "rf = RandomForestClassifier(class_weight=\"balanced\", random_state=42, n_jobs=-1)\n",
    "\n",
    "param_dist = {\n",
    "    \"n_estimators\": [100, 200, 500],\n",
    "    \"max_depth\": [3, 5, 10, None],\n",
    "    \"min_samples_leaf\": [1, 5, 10],\n",
    "    \"max_features\": [\"sqrt\", \"log2\"]\n",
    "}\n",
    "\n",
    "# 6. TimeSeriesSplit for CV\n",
    "tscv = TimeSeriesSplit(n_splits=5)\n",
    "\n",
    "search = RandomizedSearchCV(\n",
    "    rf,\n",
    "    param_distributions=param_dist,\n",
    "    n_iter=20,\n",
    "    cv=tscv,\n",
    "    scoring=\"balanced_accuracy\",\n",
    "    random_state=42,\n",
    "    n_jobs=-1,\n",
    "    verbose=1\n",
    ")\n",
    "\n",
    "# 7. Fit\n",
    "search.fit(X_train, y_train)\n",
    "best_rf = search.best_estimator_\n",
    "print(\"Best RF params:\", search.best_params_)\n",
    "\n",
    "# 8. Evaluate on test set\n",
    "y_proba_rf = best_rf.predict_proba(X_test)[:, 1]\n",
    "y_pred_rf = best_rf.predict(X_test)\n",
    "\n",
    "print(\"Random Forest Test ROC AUC:\", roc_auc_score(y_test, y_proba_rf))\n",
    "print(\"Random Forest Test Balanced Accuracy:\", balanced_accuracy_score(y_test, y_pred_rf))\n",
    "print(\"\\nClassification Report:\\n\", classification_report(y_test, y_pred_rf, target_names=[\"Down\",\"Up\"]))\n",
    "print(\"Confusion Matrix:\\n\", confusion_matrix(y_test, y_pred_rf))\n",
    "\n",
    "feat_names = X_train.columns  # capture feature names from your DataFrame\n",
    "importances = pd.Series(best_rf.feature_importances_, index=feat_names).sort_values(ascending=False)\n",
    "print(\"\\nFeature Importances:\\n\", importances)"
   ]
  },
  {
   "cell_type": "code",
   "execution_count": null,
   "id": "06df358e",
   "metadata": {},
   "outputs": [
    {
     "name": "stdout",
     "output_type": "stream",
     "text": [
      "\n",
      "Feature Importances:\n",
      " abnormal_ret    0.970698\n",
      "vol_20d         0.022379\n",
      "mom_5d          0.003035\n",
      "surprise        0.002400\n",
      "log_volume      0.001489\n",
      "dtype: float64\n"
     ]
    }
   ],
   "source": [
    "feat_names = X_train.columns  # capture feature names from your DataFrame\n",
    "importances = pd.Series(best_rf.feature_importances_, index=feat_names).sort_values(ascending=False)\n",
    "print(\"\\nFeature Importances:\\n\", importances)"
   ]
  },
  {
   "cell_type": "code",
   "execution_count": 176,
   "id": "3835dec9",
   "metadata": {},
   "outputs": [],
   "source": [
    "# Drop rows with missing values\n",
    "df_model = df.dropna(subset=[\"surprise\", \"log_volume\", \"target_up\",\"mom_5d\", \"vol_20d\", 'sect_Communication Services',\n",
    "       'sect_Consumer Discretionary', 'sect_Consumer Staples', 'sect_Energy',\n",
    "       'sect_Financials', 'sect_Health Care', 'sect_Industrials',\n",
    "       'sect_Information Technology', 'sect_Materials', 'sect_Real Estate',\n",
    "       'sect_Utilities', 'after_market', 'eps_rev_1m'])\n",
    "\n",
    "# Prepare predictors & target\n",
    "X = df_model[[\"surprise\", \"log_volume\", \"mom_5d\", \"vol_20d\", 'sect_Communication Services',\n",
    "       'sect_Consumer Discretionary', 'sect_Consumer Staples', 'sect_Energy',\n",
    "       'sect_Financials', 'sect_Health Care', 'sect_Industrials',\n",
    "       'sect_Information Technology', 'sect_Materials', 'sect_Real Estate',\n",
    "       'sect_Utilities', 'after_market', 'eps_rev_1m']]\n",
    "y = df_model[\"target_up\"]\n",
    "\n",
    "# Train/Test Split\n",
    "X_train, X_test, y_train, y_test = train_test_split(\n",
    "    X, y, test_size=0.2, random_state=42, stratify=y\n",
    ")"
   ]
  },
  {
   "cell_type": "code",
   "execution_count": 178,
   "id": "345bac96",
   "metadata": {},
   "outputs": [
    {
     "name": "stdout",
     "output_type": "stream",
     "text": [
      "Fitting 5 folds for each of 20 candidates, totalling 100 fits\n"
     ]
    },
    {
     "name": "stderr",
     "output_type": "stream",
     "text": [
      "/opt/anaconda3/envs/cis5450/lib/python3.13/site-packages/joblib/externals/loky/process_executor.py:752: UserWarning: A worker stopped while some jobs were given to the executor. This can be caused by a too short worker timeout or by a memory leak.\n",
      "  warnings.warn(\n"
     ]
    },
    {
     "name": "stdout",
     "output_type": "stream",
     "text": [
      "Best RF params: {'n_estimators': 200, 'min_samples_leaf': 5, 'max_features': 'log2', 'max_depth': 10}\n",
      "Random Forest Test ROC AUC: 0.6239586732882898\n",
      "Random Forest Test Balanced Accuracy: 0.5907224854833406\n",
      "\n",
      "Classification Report:\n",
      "               precision    recall  f1-score   support\n",
      "\n",
      "        Down       0.74      0.52      0.61      7606\n",
      "          Up       0.43      0.67      0.53      4230\n",
      "\n",
      "    accuracy                           0.57     11836\n",
      "   macro avg       0.58      0.59      0.57     11836\n",
      "weighted avg       0.63      0.57      0.58     11836\n",
      "\n",
      "Confusion Matrix:\n",
      " [[3919 3687]\n",
      " [1412 2818]]\n"
     ]
    },
    {
     "data": {
      "text/plain": [
       "vol_20d                        0.503948\n",
       "mom_5d                         0.159633\n",
       "surprise                       0.141845\n",
       "log_volume                     0.111996\n",
       "after_market                   0.016073\n",
       "sect_Financials                0.013770\n",
       "sect_Utilities                 0.010511\n",
       "sect_Real Estate               0.007438\n",
       "sect_Energy                    0.006448\n",
       "sect_Information Technology    0.005459\n",
       "sect_Health Care               0.005218\n",
       "sect_Materials                 0.004328\n",
       "sect_Industrials               0.003846\n",
       "sect_Consumer Staples          0.003789\n",
       "sect_Consumer Discretionary    0.003225\n",
       "sect_Communication Services    0.002289\n",
       "eps_rev_1m                     0.000183\n",
       "dtype: float64"
      ]
     },
     "metadata": {},
     "output_type": "display_data"
    }
   ],
   "source": [
    "\n",
    "# 5. Define model and hyperparameter space\n",
    "rf = RandomForestClassifier(class_weight=\"balanced\", random_state=42, n_jobs=-1)\n",
    "\n",
    "param_dist = {\n",
    "    \"n_estimators\": [100, 200, 500],\n",
    "    \"max_depth\": [3, 5, 10, None],\n",
    "    \"min_samples_leaf\": [1, 5, 10],\n",
    "    \"max_features\": [\"sqrt\", \"log2\"]\n",
    "}\n",
    "\n",
    "# 6. TimeSeriesSplit for CV\n",
    "tscv = TimeSeriesSplit(n_splits=5)\n",
    "\n",
    "search = RandomizedSearchCV(\n",
    "    rf,\n",
    "    param_distributions=param_dist,\n",
    "    n_iter=20,\n",
    "    cv=tscv,\n",
    "    scoring=\"balanced_accuracy\",\n",
    "    random_state=42,\n",
    "    n_jobs=-1,\n",
    "    verbose=1\n",
    ")\n",
    "\n",
    "# 7. Fit\n",
    "search.fit(X_train, y_train)\n",
    "best_rf = search.best_estimator_\n",
    "print(\"Best RF params:\", search.best_params_)\n",
    "\n",
    "# 8. Evaluate on test set\n",
    "y_proba_rf = best_rf.predict_proba(X_test)[:, 1]\n",
    "y_pred_rf = best_rf.predict(X_test)\n",
    "\n",
    "print(\"Random Forest Test ROC AUC:\", roc_auc_score(y_test, y_proba_rf))\n",
    "print(\"Random Forest Test Balanced Accuracy:\", balanced_accuracy_score(y_test, y_pred_rf))\n",
    "print(\"\\nClassification Report:\\n\", classification_report(y_test, y_pred_rf, target_names=[\"Down\",\"Up\"]))\n",
    "print(\"Confusion Matrix:\\n\", confusion_matrix(y_test, y_pred_rf))\n",
    "\n",
    "feat_names = X_train.columns  # capture feature names from your DataFrame\n",
    "importances = pd.Series(best_rf.feature_importances_, index=feat_names).sort_values(ascending=False)\n",
    "display(importances)"
   ]
  },
  {
   "cell_type": "markdown",
   "id": "6789d9d5",
   "metadata": {},
   "source": [
    "# XGBoost"
   ]
  },
  {
   "cell_type": "code",
   "execution_count": 179,
   "id": "3b8ed57b",
   "metadata": {},
   "outputs": [],
   "source": [
    "import xgboost as xgb\n",
    "from sklearn.model_selection import RandomizedSearchCV, TimeSeriesSplit, train_test_split\n",
    "from sklearn.metrics import balanced_accuracy_score, roc_auc_score, classification_report, confusion_matrix"
   ]
  },
  {
   "cell_type": "code",
   "execution_count": 188,
   "id": "2e4cf9d2",
   "metadata": {},
   "outputs": [
    {
     "name": "stdout",
     "output_type": "stream",
     "text": [
      "Fitting 5 folds for each of 10 candidates, totalling 50 fits\n",
      "Best XGB params: {'subsample': 0.6, 'n_estimators': 500, 'max_depth': 3, 'learning_rate': 0.01, 'colsample_bytree': 0.6}\n",
      "XGBoost Test ROC AUC: 0.6208868946936877\n",
      "XGBoost Test Balanced Accuracy: 0.5877516443718378\n",
      "\n",
      "Classification Report:\n",
      "               precision    recall  f1-score   support\n",
      "\n",
      "        Down       0.73      0.51      0.60      7606\n",
      "          Up       0.43      0.67      0.52      4230\n",
      "\n",
      "    accuracy                           0.57     11836\n",
      "   macro avg       0.58      0.59      0.56     11836\n",
      "weighted avg       0.62      0.57      0.57     11836\n",
      "\n",
      "Confusion Matrix:\n",
      " [[3881 3725]\n",
      " [1416 2814]]\n",
      "\n",
      "Feature Importances:\n",
      " vol_20d                        0.304426\n",
      "mom_5d                         0.081626\n",
      "surprise                       0.072273\n",
      "sect_Real Estate               0.067643\n",
      "sect_Utilities                 0.060361\n",
      "sect_Financials                0.053706\n",
      "after_market                   0.049849\n",
      "sect_Information Technology    0.045001\n",
      "sect_Health Care               0.043181\n",
      "sect_Energy                    0.042487\n",
      "log_volume                     0.041053\n",
      "sect_Materials                 0.035077\n",
      "sect_Communication Services    0.026639\n",
      "sect_Consumer Discretionary    0.022906\n",
      "sect_Consumer Staples          0.021216\n",
      "sect_Industrials               0.016971\n",
      "eps_rev_1m                     0.015587\n",
      "dtype: float32\n"
     ]
    }
   ],
   "source": [
    "# 5. Define XGBoost classifier and parameter distribution\n",
    "xgb_clf = xgb.XGBClassifier(\n",
    "    objective=\"binary:logistic\",\n",
    "    scale_pos_weight=(len(y_train) - y_train.sum()) / y_train.sum(),\n",
    "    eval_metric=\"logloss\",\n",
    "    random_state=42,\n",
    "    n_jobs=2\n",
    ")\n",
    "\n",
    "param_dist = {\n",
    "    \"n_estimators\": [100, 200, 500],\n",
    "    \"max_depth\": [3, 5, 7],\n",
    "    \"learning_rate\": [0.01, 0.1, 0.2],\n",
    "    \"subsample\": [0.6, 0.8, 1.0],\n",
    "    \"colsample_bytree\": [0.6, 0.8, 1.0]\n",
    "}\n",
    "\n",
    "# 6. Time-series cross-validation\n",
    "tscv = TimeSeriesSplit(n_splits=5)\n",
    "\n",
    "search_xgb = RandomizedSearchCV(\n",
    "    xgb_clf,\n",
    "    param_distributions=param_dist,\n",
    "    n_iter=10,\n",
    "    cv=tscv,\n",
    "    scoring=\"balanced_accuracy\",\n",
    "    random_state=42,\n",
    "    n_jobs=-1,\n",
    "    verbose=1\n",
    ")\n",
    "\n",
    "# 7. Fit\n",
    "search_xgb.fit(X_train, y_train)\n",
    "best_xgb = search_xgb.best_estimator_\n",
    "print(\"Best XGB params:\", search_xgb.best_params_)\n",
    "\n",
    "# 8. Evaluate on the test set\n",
    "y_proba_xgb = best_xgb.predict_proba(X_test)[:, 1]\n",
    "y_pred_xgb = best_xgb.predict(X_test)\n",
    "\n",
    "print(\"XGBoost Test ROC AUC:\", roc_auc_score(y_test, y_proba_xgb))\n",
    "print(\"XGBoost Test Balanced Accuracy:\", balanced_accuracy_score(y_test, y_pred_xgb))\n",
    "print(\"\\nClassification Report:\\n\", classification_report(y_test, y_pred_xgb, target_names=[\"Down\",\"Up\"]))\n",
    "print(\"Confusion Matrix:\\n\", confusion_matrix(y_test, y_pred_xgb))\n",
    "\n",
    "# 9. Feature importances\n",
    "importances = pd.Series(best_xgb.feature_importances_, index=[\"surprise\", \"log_volume\", \"mom_5d\", \"vol_20d\", 'sect_Communication Services',\n",
    "       'sect_Consumer Discretionary', 'sect_Consumer Staples', 'sect_Energy',\n",
    "       'sect_Financials', 'sect_Health Care', 'sect_Industrials',\n",
    "       'sect_Information Technology', 'sect_Materials', 'sect_Real Estate',\n",
    "       'sect_Utilities', 'after_market', 'eps_rev_1m']).sort_values(ascending=False)\n",
    "print(\"\\nFeature Importances:\\n\", importances)"
   ]
  }
 ],
 "metadata": {
  "kernelspec": {
   "display_name": "cis5450",
   "language": "python",
   "name": "python3"
  },
  "language_info": {
   "codemirror_mode": {
    "name": "ipython",
    "version": 3
   },
   "file_extension": ".py",
   "mimetype": "text/x-python",
   "name": "python",
   "nbconvert_exporter": "python",
   "pygments_lexer": "ipython3",
   "version": "3.13.2"
  }
 },
 "nbformat": 4,
 "nbformat_minor": 5
}
